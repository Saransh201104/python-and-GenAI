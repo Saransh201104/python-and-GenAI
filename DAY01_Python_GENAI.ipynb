{
  "nbformat": 4,
  "nbformat_minor": 0,
  "metadata": {
    "colab": {
      "provenance": [],
      "authorship_tag": "ABX9TyOGQ7vBWygzh2TQoX2qmX2V",
      "include_colab_link": true
    },
    "kernelspec": {
      "name": "python3",
      "display_name": "Python 3"
    },
    "language_info": {
      "name": "python"
    }
  },
  "cells": [
    {
      "cell_type": "markdown",
      "metadata": {
        "id": "view-in-github",
        "colab_type": "text"
      },
      "source": [
        "<a href=\"https://colab.research.google.com/github/Saransh201104/python-and-GenAI/blob/main/DAY01_Python_GENAI.ipynb\" target=\"_parent\"><img src=\"https://colab.research.google.com/assets/colab-badge.svg\" alt=\"Open In Colab\"/></a>"
      ]
    },
    {
      "cell_type": "markdown",
      "source": [
        "What is Programming? -> Programming is the process of giving instruction to a computer to perform specific tasks."
      ],
      "metadata": {
        "id": "sCOdhJfyvSlg"
      }
    },
    {
      "cell_type": "markdown",
      "source": [
        "# Print statement\n",
        "\n",
        "*   What is Print Statement?\n",
        "      * The print() function is one of the most commonly used functions in python. it allows you to display output on the screen\n",
        "\n",
        "\n",
        "*   Using the print() function:\n",
        "    * To display a message or result .you simply use the print() function with the content you want to display inside the parentheses\n"
      ],
      "metadata": {
        "id": "lQ-H4JkBvWCv"
      }
    },
    {
      "cell_type": "code",
      "source": [
        "print(\"Hello!, Saransh\")"
      ],
      "metadata": {
        "colab": {
          "base_uri": "https://localhost:8080/"
        },
        "id": "diJNlOGovbyH",
        "outputId": "fb72048b-3fe3-40bf-f583-11dc5ea32077"
      },
      "execution_count": 2,
      "outputs": [
        {
          "output_type": "stream",
          "name": "stdout",
          "text": [
            "Hello!, Saransh\n"
          ]
        }
      ]
    },
    {
      "cell_type": "code",
      "source": [
        "print(\"Welcome to \", \"Python Programming\")"
      ],
      "metadata": {
        "colab": {
          "base_uri": "https://localhost:8080/"
        },
        "id": "uF5BikglvgDX",
        "outputId": "2896b044-cc85-427f-dc5a-921d82e1b4aa"
      },
      "execution_count": 3,
      "outputs": [
        {
          "output_type": "stream",
          "name": "stdout",
          "text": [
            "Welcome to  Python Programming\n"
          ]
        }
      ]
    },
    {
      "cell_type": "markdown",
      "source": [
        "# Print Variable"
      ],
      "metadata": {
        "id": "wQ-jRUSlviwH"
      }
    },
    {
      "cell_type": "code",
      "source": [
        "name = \"Sara\"\n",
        "print(\"Hello\",name)"
      ],
      "metadata": {
        "colab": {
          "base_uri": "https://localhost:8080/"
        },
        "id": "50byUu9dvoun",
        "outputId": "47eed99c-83f0-413c-d463-b1353f3814d7"
      },
      "execution_count": 4,
      "outputs": [
        {
          "output_type": "stream",
          "name": "stdout",
          "text": [
            "Hello Sara\n"
          ]
        }
      ]
    },
    {
      "cell_type": "markdown",
      "source": [
        "# Comments"
      ],
      "metadata": {
        "id": "IWrRc2fnvtnH"
      }
    },
    {
      "cell_type": "markdown",
      "source": [
        "Comments are lines in your code that are not executed by python. They are used to explain your code . making it easier for you and either to understand."
      ],
      "metadata": {
        "id": "Jx9voCOAvyX_"
      }
    },
    {
      "cell_type": "markdown",
      "source": [
        "**Single Line Comment**\n",
        "\n",
        "   * In python ,single - line comment start with the a syntax .Everything after '#' on that line is ignored by Python\n"
      ],
      "metadata": {
        "id": "9zhSG43av1_3"
      }
    },
    {
      "cell_type": "code",
      "source": [
        "#This is a comment\n",
        "print('This will be printed.')  # This is inline Comment"
      ],
      "metadata": {
        "colab": {
          "base_uri": "https://localhost:8080/"
        },
        "id": "bZvvKCPzvsjh",
        "outputId": "3ce9250e-7f7a-4595-b32e-c103ea317f04"
      },
      "execution_count": 5,
      "outputs": [
        {
          "output_type": "stream",
          "name": "stdout",
          "text": [
            "This will be printed.\n"
          ]
        }
      ]
    },
    {
      "cell_type": "markdown",
      "source": [
        "**Multi-line Comment**\n",
        "\n",
        "\n",
        "*   Althrough Python doesn't have a specific syntax for multiline comments, you can use multiple '#' symbole, or you can use triple quote(''' Comment''') or(\"\"\"Comment\"\"\") for a block of text that won't be executed.\n",
        "\n",
        "\n"
      ],
      "metadata": {
        "id": "1Kf4hGXDv-k4"
      }
    },
    {
      "cell_type": "code",
      "source": [
        "\"\"\"\n",
        "this is a block of text\n",
        "that won't be executed\n",
        "as code\n",
        "\"\"\""
      ],
      "metadata": {
        "colab": {
          "base_uri": "https://localhost:8080/",
          "height": 36
        },
        "id": "23fY_syVwBPv",
        "outputId": "731ec018-411f-4711-f7a1-d9d5a77cd491"
      },
      "execution_count": 6,
      "outputs": [
        {
          "output_type": "execute_result",
          "data": {
            "text/plain": [
              "\" \\nthis is a block of text\\nthat won't be executed\\nas code \\n\""
            ],
            "application/vnd.google.colaboratory.intrinsic+json": {
              "type": "string"
            }
          },
          "metadata": {},
          "execution_count": 6
        }
      ]
    },
    {
      "cell_type": "markdown",
      "source": [
        "**Why Use Comments**\n",
        "*   Clarifying Your Code : Comments make your code easier to read and understand.\n",
        "*    Debugging : Comments can be used to temproary disable parts of your code while testing or debugging\n",
        "\n"
      ],
      "metadata": {
        "id": "4qZJb2V7wFnf"
      }
    },
    {
      "cell_type": "markdown",
      "source": [
        "# Variable and Data Type"
      ],
      "metadata": {
        "id": "MaEiDLqjwJIP"
      }
    },
    {
      "cell_type": "markdown",
      "source": [
        "## Variable"
      ],
      "metadata": {
        "id": "5vwz9bCwwPAH"
      }
    },
    {
      "cell_type": "markdown",
      "source": [
        "**what is a variable?**\n",
        "*   A variable is a way to store data in your program. think of it as a container that holds a value . which can be used and modified throughout you code.\n",
        "\n",
        "**Creating Variable**\n",
        "*   To create a variable in Python, you simply assign a value to a name using the \" = \" sign\n"
      ],
      "metadata": {
        "id": "jZOT9ReUwSFw"
      }
    },
    {
      "cell_type": "code",
      "source": [
        "age  =13\n",
        "pi = 3.14\n",
        "name = \"ruchi\"\n",
        "print(age)\n",
        "print(pi)\n",
        "print(name)"
      ],
      "metadata": {
        "colab": {
          "base_uri": "https://localhost:8080/"
        },
        "id": "48LOVsvLwWwP",
        "outputId": "738d1745-4fef-4d78-98f1-e541d9742b16"
      },
      "execution_count": 7,
      "outputs": [
        {
          "output_type": "stream",
          "name": "stdout",
          "text": [
            "13\n",
            "3.14\n",
            "ruchi\n"
          ]
        }
      ]
    }
  ]
}