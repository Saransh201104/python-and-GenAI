{
  "nbformat": 4,
  "nbformat_minor": 0,
  "metadata": {
    "colab": {
      "provenance": []
    },
    "kernelspec": {
      "name": "python3",
      "display_name": "Python 3"
    },
    "language_info": {
      "name": "python"
    }
  },
  "cells": [
    {
      "cell_type": "markdown",
      "source": [
        "**What is Programming?**\n",
        "-> *Programming is the process of\n",
        "giving instruction to a computer to perform specific tasks.*\n"
      ],
      "metadata": {
        "id": "uV6YpxDdZ0XT"
      }
    },
    {
      "cell_type": "code",
      "source": [
        "a = 5"
      ],
      "metadata": {
        "id": "wGilgnRCdGBV"
      },
      "execution_count": 2,
      "outputs": []
    },
    {
      "cell_type": "code",
      "source": [
        "print(a)"
      ],
      "metadata": {
        "colab": {
          "base_uri": "https://localhost:8080/"
        },
        "id": "K87TvDLtdReV",
        "outputId": "a584d9fd-1b3b-42ee-c4fc-e474962f708c"
      },
      "execution_count": 3,
      "outputs": [
        {
          "output_type": "stream",
          "name": "stdout",
          "text": [
            "5\n"
          ]
        }
      ]
    },
    {
      "cell_type": "code",
      "metadata": {
        "colab": {
          "base_uri": "https://localhost:8080/"
        },
        "id": "77ccf195",
        "outputId": "58e5aab9-bf78-418e-8ba0-e32acffcd081"
      },
      "source": [
        "def hello_world():\n",
        "  \"\"\"Prints 'Hello World' to the console.\"\"\"\n",
        "  print(\"Hello World\")\n",
        "\n",
        "# Call the function to display the message\n",
        "hello_world()"
      ],
      "execution_count": 4,
      "outputs": [
        {
          "output_type": "stream",
          "name": "stdout",
          "text": [
            "Hello World\n"
          ]
        }
      ]
    },
    {
      "cell_type": "markdown",
      "source": [
        "# Print statement\n",
        "\n",
        "*   What is Print Statement?\n",
        "      * The print() function is one of the most commonly used functions in python. it allows you to display output on the screen\n",
        "\n",
        "\n",
        "*   Using the print() function:\n",
        "    * To display a message or result .you simply use the print() function with the content you want to display inside the parentheses\n",
        "\n",
        "\n",
        "\n",
        "\n",
        "\n",
        "\n"
      ],
      "metadata": {
        "id": "MTPXYShohNDa"
      }
    },
    {
      "cell_type": "code",
      "source": [
        "print(\"Hello!, Saransh\")"
      ],
      "metadata": {
        "colab": {
          "base_uri": "https://localhost:8080/"
        },
        "id": "1FVDAgQihMjx",
        "outputId": "66bcd2d1-acb0-40a5-98b1-dced89b2aff6"
      },
      "execution_count": 5,
      "outputs": [
        {
          "output_type": "stream",
          "name": "stdout",
          "text": [
            "Hello!, Saransh\n"
          ]
        }
      ]
    },
    {
      "cell_type": "code",
      "source": [
        "print(\"Welcome to \", \"Python Programming\")"
      ],
      "metadata": {
        "colab": {
          "base_uri": "https://localhost:8080/"
        },
        "id": "vK6C5aKEiymy",
        "outputId": "b79a990b-3d39-4b7d-d4fd-0bbfea3786e2"
      },
      "execution_count": 7,
      "outputs": [
        {
          "output_type": "stream",
          "name": "stdout",
          "text": [
            "Welcome to  Python Programming\n"
          ]
        }
      ]
    },
    {
      "cell_type": "markdown",
      "source": [
        "# Print Variable\n"
      ],
      "metadata": {
        "id": "S62KBPy8j2yv"
      }
    },
    {
      "cell_type": "code",
      "source": [
        "name = \"Sara\"\n",
        "print(\"Hello\",name)"
      ],
      "metadata": {
        "colab": {
          "base_uri": "https://localhost:8080/"
        },
        "id": "3PyVTpQDj2ZE",
        "outputId": "49724ba8-23d2-432b-d618-e73ad4746a7c"
      },
      "execution_count": 10,
      "outputs": [
        {
          "output_type": "stream",
          "name": "stdout",
          "text": [
            "Hello Sara\n"
          ]
        }
      ]
    },
    {
      "cell_type": "markdown",
      "source": [
        "# Comments\n"
      ],
      "metadata": {
        "id": "NeTNRt6CkZR8"
      }
    },
    {
      "cell_type": "markdown",
      "source": [
        "*Comments are lines in your code that are not executed by python. They are used to explain your code . making it easier for you and either to understand.*"
      ],
      "metadata": {
        "id": "vlcm80NIkfGs"
      }
    },
    {
      "cell_type": "markdown",
      "source": [
        "**Single Line Comment**\n",
        "\n",
        "   * In python ,single - line comment start with the a syntax .Everything after '#' on that line is ignored by Python\n",
        "\n",
        "\n"
      ],
      "metadata": {
        "id": "-WW10FZek3fw"
      }
    },
    {
      "cell_type": "code",
      "source": [
        "#This is a comment\n",
        "print('This will be printed.')  # This is inline Comment"
      ],
      "metadata": {
        "colab": {
          "base_uri": "https://localhost:8080/"
        },
        "id": "JMPbuwLhlbIv",
        "outputId": "667397b1-faef-4de3-809b-da07ab28c9d3"
      },
      "execution_count": 11,
      "outputs": [
        {
          "output_type": "stream",
          "name": "stdout",
          "text": [
            "This will be printed.\n"
          ]
        }
      ]
    },
    {
      "cell_type": "markdown",
      "source": [
        "**Multi-line Comment**\n",
        "\n",
        "\n",
        "*   Althrough Python doesn't have a specific syntax for multiline comments, you can use multiple '#' symbole, or you can use triple quote(''' Comment''') or(\"\"\"Comment\"\"\") for a block of text that won't be executed.\n",
        "\n",
        "\n"
      ],
      "metadata": {
        "id": "hBILdJJYlri3"
      }
    },
    {
      "cell_type": "code",
      "source": [
        "\"\"\"\n",
        "this is a block of text\n",
        "that won't be executed\n",
        "as code\n",
        "\"\"\""
      ],
      "metadata": {
        "colab": {
          "base_uri": "https://localhost:8080/",
          "height": 35
        },
        "id": "s0QWnrtgmXkP",
        "outputId": "e64af6ae-2a29-4221-dd78-a027c3c13645"
      },
      "execution_count": 12,
      "outputs": [
        {
          "output_type": "execute_result",
          "data": {
            "text/plain": [
              "\" \\nthis is a block of text\\nthat won't be executed\\nas code \\n\""
            ],
            "application/vnd.google.colaboratory.intrinsic+json": {
              "type": "string"
            }
          },
          "metadata": {},
          "execution_count": 12
        }
      ]
    },
    {
      "cell_type": "markdown",
      "source": [
        "**Why Use Comments**\n",
        "*   Clarifying Your Code : Comments make your code easier to read and understand.\n",
        "*    Debugging : Comments can be used to temproary disable parts of your code while testing or debugging\n",
        "\n",
        "\n"
      ],
      "metadata": {
        "id": "BZZ4s3UkmsHu"
      }
    },
    {
      "cell_type": "markdown",
      "source": [
        "# Variable and Data Type"
      ],
      "metadata": {
        "id": "xGbapz9InX4u"
      }
    },
    {
      "cell_type": "markdown",
      "source": [
        "## Variable"
      ],
      "metadata": {
        "id": "zPtY4NPbnl-2"
      }
    },
    {
      "cell_type": "markdown",
      "source": [
        "**what is a variable?**\n",
        "*   A variable is a way to store data in your program. think of it as a container that holds a value . which can be used and modified throughout you code.\n",
        "\n",
        "**Creating Variable**\n",
        "*   To create a variable in Python, you simply assign a value to a name using the \" = \" sign\n",
        "\n"
      ],
      "metadata": {
        "id": "8aAUvKQZnurP"
      }
    },
    {
      "cell_type": "code",
      "source": [
        "age  =13\n",
        "pi = 3.14\n",
        "name = \"ruchi\"\n",
        "print(age)\n",
        "print(pi)\n",
        "print(name)"
      ],
      "metadata": {
        "colab": {
          "base_uri": "https://localhost:8080/"
        },
        "id": "PnmeT3ojnPvH",
        "outputId": "dc4f04d8-9802-452f-a218-d47ffdb429a2"
      },
      "execution_count": 14,
      "outputs": [
        {
          "output_type": "stream",
          "name": "stdout",
          "text": [
            "13\n",
            "3.14\n",
            "ruchi\n"
          ]
        }
      ]
    }
  ]
}